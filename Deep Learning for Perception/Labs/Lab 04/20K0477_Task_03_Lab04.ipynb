{
  "nbformat": 4,
  "nbformat_minor": 0,
  "metadata": {
    "colab": {
      "provenance": []
    },
    "kernelspec": {
      "name": "python3",
      "display_name": "Python 3"
    },
    "language_info": {
      "name": "python"
    }
  },
  "cells": [
    {
      "cell_type": "code",
      "execution_count": 3,
      "metadata": {
        "id": "WBEMuwR5O4PY"
      },
      "outputs": [],
      "source": [
        "import pandas as pd\n",
        "import numpy as np\n",
        "from sklearn.model_selection import train_test_split\n",
        "from sklearn.preprocessing import StandardScaler\n",
        "import tensorflow as tf\n",
        "from tensorflow.keras.models import Sequential\n",
        "from tensorflow.keras.layers import Dense, Dropout"
      ]
    },
    {
      "cell_type": "code",
      "source": [
        "train_data = pd.read_csv('train.csv')"
      ],
      "metadata": {
        "id": "wPawsu3hPH98"
      },
      "execution_count": 4,
      "outputs": []
    },
    {
      "cell_type": "code",
      "source": [
        "X = train_data[['Pclass', 'Sex', 'Age', 'SibSp', 'Parch', 'Fare', 'Embarked']]"
      ],
      "metadata": {
        "id": "mPQBL7uNPybe"
      },
      "execution_count": 5,
      "outputs": []
    },
    {
      "cell_type": "code",
      "source": [
        "y = train_data['Survived']"
      ],
      "metadata": {
        "id": "1zBH5kLXP5mo"
      },
      "execution_count": 6,
      "outputs": []
    },
    {
      "cell_type": "code",
      "source": [
        "X = pd.get_dummies(X, columns=['Sex', 'Embarked'], drop_first=True)"
      ],
      "metadata": {
        "id": "LAlX2ZSOP7Xk"
      },
      "execution_count": 7,
      "outputs": []
    },
    {
      "cell_type": "code",
      "source": [
        "X['Age'].fillna(X['Age'].mean(), inplace=True)"
      ],
      "metadata": {
        "id": "hL4FH64RP91U"
      },
      "execution_count": 8,
      "outputs": []
    },
    {
      "cell_type": "code",
      "source": [
        "X_train, X_val, y_train, y_val = train_test_split(X, y, test_size=0.2, random_state=42)"
      ],
      "metadata": {
        "id": "BJTQsoGeP_l4"
      },
      "execution_count": 9,
      "outputs": []
    },
    {
      "cell_type": "code",
      "source": [
        "scaler = StandardScaler()\n",
        "X_train[['Age', 'SibSp', 'Parch', 'Fare']] = scaler.fit_transform(X_train[['Age', 'SibSp', 'Parch', 'Fare']])\n",
        "X_val[['Age', 'SibSp', 'Parch', 'Fare']] = scaler.transform(X_val[['Age', 'SibSp', 'Parch', 'Fare']])"
      ],
      "metadata": {
        "id": "rAx8ZTQWQBWN"
      },
      "execution_count": 10,
      "outputs": []
    },
    {
      "cell_type": "code",
      "source": [
        "model = Sequential()\n",
        "model.add(Dense(64, activation='relu', input_dim=X_train.shape[1]))\n",
        "model.add(Dropout(0.5))\n",
        "model.add(Dense(32, activation='relu'))\n",
        "model.add(Dense(1, activation='sigmoid'))"
      ],
      "metadata": {
        "id": "DvrnILogQFGy"
      },
      "execution_count": 11,
      "outputs": []
    },
    {
      "cell_type": "code",
      "source": [
        "model.compile(loss='binary_crossentropy', optimizer='adam', metrics=['accuracy'])"
      ],
      "metadata": {
        "id": "XngSrapcQIDQ"
      },
      "execution_count": 12,
      "outputs": []
    },
    {
      "cell_type": "code",
      "source": [
        "model.fit(X_train, y_train, epochs=10, batch_size=32, validation_data=(X_val, y_val))"
      ],
      "metadata": {
        "colab": {
          "base_uri": "https://localhost:8080/"
        },
        "id": "Au_XqRnlQK2W",
        "outputId": "7571bf59-c5b7-4437-8fe6-14df7566c613"
      },
      "execution_count": 13,
      "outputs": [
        {
          "output_type": "stream",
          "name": "stdout",
          "text": [
            "Epoch 1/10\n",
            "23/23 [==============================] - 3s 16ms/step - loss: 0.7072 - accuracy: 0.5688 - val_loss: 0.6371 - val_accuracy: 0.5866\n",
            "Epoch 2/10\n",
            "23/23 [==============================] - 0s 3ms/step - loss: 0.6315 - accuracy: 0.6545 - val_loss: 0.6057 - val_accuracy: 0.6145\n",
            "Epoch 3/10\n",
            "23/23 [==============================] - 0s 4ms/step - loss: 0.6047 - accuracy: 0.6685 - val_loss: 0.5773 - val_accuracy: 0.6872\n",
            "Epoch 4/10\n",
            "23/23 [==============================] - 0s 4ms/step - loss: 0.5808 - accuracy: 0.7107 - val_loss: 0.5544 - val_accuracy: 0.6983\n",
            "Epoch 5/10\n",
            "23/23 [==============================] - 0s 4ms/step - loss: 0.5657 - accuracy: 0.7037 - val_loss: 0.5311 - val_accuracy: 0.7430\n",
            "Epoch 6/10\n",
            "23/23 [==============================] - 0s 4ms/step - loss: 0.5558 - accuracy: 0.7247 - val_loss: 0.5138 - val_accuracy: 0.7654\n",
            "Epoch 7/10\n",
            "23/23 [==============================] - 0s 4ms/step - loss: 0.5459 - accuracy: 0.7317 - val_loss: 0.4999 - val_accuracy: 0.7709\n",
            "Epoch 8/10\n",
            "23/23 [==============================] - 0s 3ms/step - loss: 0.5321 - accuracy: 0.7472 - val_loss: 0.4847 - val_accuracy: 0.8101\n",
            "Epoch 9/10\n",
            "23/23 [==============================] - 0s 4ms/step - loss: 0.5187 - accuracy: 0.7654 - val_loss: 0.4729 - val_accuracy: 0.8156\n",
            "Epoch 10/10\n",
            "23/23 [==============================] - 0s 4ms/step - loss: 0.5073 - accuracy: 0.7809 - val_loss: 0.4632 - val_accuracy: 0.8101\n"
          ]
        },
        {
          "output_type": "execute_result",
          "data": {
            "text/plain": [
              "<keras.src.callbacks.History at 0x7fb6f0e69d50>"
            ]
          },
          "metadata": {},
          "execution_count": 13
        }
      ]
    },
    {
      "cell_type": "code",
      "source": [
        "test_data = pd.read_csv('test.csv')"
      ],
      "metadata": {
        "id": "utLXpNZPQMhV"
      },
      "execution_count": 14,
      "outputs": []
    },
    {
      "cell_type": "code",
      "source": [
        "X_test = test_data[['Pclass', 'Sex', 'Age', 'SibSp', 'Parch', 'Fare', 'Embarked']]"
      ],
      "metadata": {
        "id": "BK8UOC15QPlE"
      },
      "execution_count": 15,
      "outputs": []
    },
    {
      "cell_type": "code",
      "source": [
        "X_test = pd.get_dummies(X_test, columns=['Sex', 'Embarked'], drop_first=True)"
      ],
      "metadata": {
        "id": "GEiM3Ru8QRPN"
      },
      "execution_count": 16,
      "outputs": []
    },
    {
      "cell_type": "code",
      "source": [
        "X_test['Age'].fillna(X_test['Age'].mean(), inplace=True)"
      ],
      "metadata": {
        "id": "lEA7Xu5qQSzA"
      },
      "execution_count": 17,
      "outputs": []
    },
    {
      "cell_type": "code",
      "source": [
        "X_test['Fare'].fillna(X_test['Fare'].mean(), inplace=True)"
      ],
      "metadata": {
        "id": "-BH6RWrpQUod"
      },
      "execution_count": 18,
      "outputs": []
    },
    {
      "cell_type": "code",
      "source": [
        "X_test[['Age', 'SibSp', 'Parch', 'Fare']] = scaler.transform(X_test[['Age', 'SibSp', 'Parch', 'Fare']])"
      ],
      "metadata": {
        "id": "izKPw2-kQZyu"
      },
      "execution_count": 19,
      "outputs": []
    },
    {
      "cell_type": "code",
      "source": [
        "predictions = model.predict(X_test)"
      ],
      "metadata": {
        "colab": {
          "base_uri": "https://localhost:8080/"
        },
        "id": "tFZ8g6-rQc9U",
        "outputId": "e15f70cb-3eff-4a60-d211-b472e89f8990"
      },
      "execution_count": 20,
      "outputs": [
        {
          "output_type": "stream",
          "name": "stdout",
          "text": [
            "14/14 [==============================] - 0s 2ms/step\n"
          ]
        }
      ]
    },
    {
      "cell_type": "code",
      "source": [
        "predictions = (predictions > 0.5).astype(int)"
      ],
      "metadata": {
        "id": "eJAjcNYMQhLr"
      },
      "execution_count": 21,
      "outputs": []
    },
    {
      "cell_type": "code",
      "source": [
        "submission = pd.DataFrame({'PassengerId': test_data['PassengerId'], 'Survived': predictions.flatten()})"
      ],
      "metadata": {
        "id": "2lWtPJVGQkY8"
      },
      "execution_count": 22,
      "outputs": []
    },
    {
      "cell_type": "code",
      "source": [
        "submission.to_csv('my_submission.csv', index=False)"
      ],
      "metadata": {
        "id": "qnk4zv2CQnZg"
      },
      "execution_count": 23,
      "outputs": []
    },
    {
      "cell_type": "code",
      "source": [],
      "metadata": {
        "id": "1H15b522QqOQ"
      },
      "execution_count": null,
      "outputs": []
    }
  ]
}