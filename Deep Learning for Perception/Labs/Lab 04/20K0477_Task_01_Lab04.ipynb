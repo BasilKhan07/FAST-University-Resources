{
  "nbformat": 4,
  "nbformat_minor": 0,
  "metadata": {
    "colab": {
      "provenance": []
    },
    "kernelspec": {
      "name": "python3",
      "display_name": "Python 3"
    },
    "language_info": {
      "name": "python"
    }
  },
  "cells": [
    {
      "cell_type": "code",
      "source": [
        "import tensorflow as tf\n",
        "from tensorflow.keras.models import Sequential\n",
        "from tensorflow.keras.layers import Dense"
      ],
      "metadata": {
        "id": "jaNC850lFN1e"
      },
      "execution_count": 26,
      "outputs": []
    },
    {
      "cell_type": "code",
      "source": [
        "model = Sequential()"
      ],
      "metadata": {
        "id": "Uu_J0A99HK22"
      },
      "execution_count": 27,
      "outputs": []
    },
    {
      "cell_type": "code",
      "source": [
        "model.add(Dense(6, input_dim=13, activation='relu'))\n",
        "model.add(Dense(6, activation='relu'))\n",
        "model.add(Dense(100, activation='relu'))\n",
        "model.add(Dense(500, activation='relu'))\n",
        "model.add(Dense(200, activation='relu'))\n",
        "model.add(Dense(50, activation='relu'))\n",
        "model.add(Dense(2, activation='softmax'))"
      ],
      "metadata": {
        "id": "O99ykcjFHNf4"
      },
      "execution_count": 28,
      "outputs": []
    },
    {
      "cell_type": "code",
      "source": [
        "model.summary()"
      ],
      "metadata": {
        "colab": {
          "base_uri": "https://localhost:8080/"
        },
        "id": "n9Y32fc7HkMB",
        "outputId": "e8cd9bca-a19f-441d-f322-3b05b9390fe2"
      },
      "execution_count": 29,
      "outputs": [
        {
          "output_type": "stream",
          "name": "stdout",
          "text": [
            "Model: \"sequential\"\n",
            "_________________________________________________________________\n",
            " Layer (type)                Output Shape              Param #   \n",
            "=================================================================\n",
            " dense (Dense)               (None, 6)                 84        \n",
            "                                                                 \n",
            " dense_1 (Dense)             (None, 6)                 42        \n",
            "                                                                 \n",
            " dense_2 (Dense)             (None, 100)               700       \n",
            "                                                                 \n",
            " dense_3 (Dense)             (None, 500)               50500     \n",
            "                                                                 \n",
            " dense_4 (Dense)             (None, 200)               100200    \n",
            "                                                                 \n",
            " dense_5 (Dense)             (None, 50)                10050     \n",
            "                                                                 \n",
            " dense_6 (Dense)             (None, 2)                 102       \n",
            "                                                                 \n",
            "=================================================================\n",
            "Total params: 161678 (631.55 KB)\n",
            "Trainable params: 161678 (631.55 KB)\n",
            "Non-trainable params: 0 (0.00 Byte)\n",
            "_________________________________________________________________\n"
          ]
        }
      ]
    },
    {
      "cell_type": "code",
      "source": [
        "num_params = model.count_params()\n",
        "print(\"Number of parameters in the model:\", num_params)"
      ],
      "metadata": {
        "colab": {
          "base_uri": "https://localhost:8080/"
        },
        "id": "2aM5e7rRH39w",
        "outputId": "f4b53d5d-b5fd-49e7-fa89-d8bdf171295f"
      },
      "execution_count": 31,
      "outputs": [
        {
          "output_type": "stream",
          "name": "stdout",
          "text": [
            "Number of parameters in the model: 161678\n"
          ]
        }
      ]
    },
    {
      "cell_type": "code",
      "source": [
        "import numpy as np\n",
        "import pandas as pd\n",
        "from sklearn.model_selection import train_test_split\n",
        "from sklearn.preprocessing import StandardScaler\n",
        "from tensorflow.keras.utils import to_categorical"
      ],
      "metadata": {
        "id": "EDaYpyd2Hm0K"
      },
      "execution_count": 30,
      "outputs": []
    },
    {
      "cell_type": "code",
      "source": [
        "df = pd.read_csv('/content/heart_disease_dataset_UCI.csv')"
      ],
      "metadata": {
        "id": "vbDIO4YMJvXX"
      },
      "execution_count": 32,
      "outputs": []
    },
    {
      "cell_type": "code",
      "source": [
        "X = df.drop('target', axis=1)\n",
        "y = df['target']"
      ],
      "metadata": {
        "id": "cF6xKG20J3_b"
      },
      "execution_count": 33,
      "outputs": []
    },
    {
      "cell_type": "code",
      "source": [
        "y = to_categorical(y, num_classes=2)"
      ],
      "metadata": {
        "id": "jEtlx6iUJ7Hk"
      },
      "execution_count": 34,
      "outputs": []
    },
    {
      "cell_type": "code",
      "source": [
        "X_train, X_test, y_train, y_test = train_test_split(X, y, test_size=0.2, random_state=42)"
      ],
      "metadata": {
        "id": "jlM36kA0J92o"
      },
      "execution_count": 35,
      "outputs": []
    },
    {
      "cell_type": "code",
      "source": [
        "scaler = StandardScaler()\n",
        "X_train = scaler.fit_transform(X_train)\n",
        "X_test = scaler.transform(X_test)"
      ],
      "metadata": {
        "id": "EI3LYkCjKAEI"
      },
      "execution_count": 36,
      "outputs": []
    },
    {
      "cell_type": "code",
      "source": [
        "model.compile(optimizer='adam', loss='categorical_crossentropy', metrics=['accuracy'])"
      ],
      "metadata": {
        "id": "OwzvMNXZKCun"
      },
      "execution_count": 37,
      "outputs": []
    },
    {
      "cell_type": "code",
      "source": [
        "model.fit(X_train, y_train, epochs=10, batch_size=32, validation_split=0.2)\n"
      ],
      "metadata": {
        "colab": {
          "base_uri": "https://localhost:8080/"
        },
        "id": "ahs_iG6CKI7p",
        "outputId": "53e5207b-25ce-4c40-f040-5b1ad183bed0"
      },
      "execution_count": 38,
      "outputs": [
        {
          "output_type": "stream",
          "name": "stdout",
          "text": [
            "Epoch 1/10\n",
            "7/7 [==============================] - 2s 55ms/step - loss: 0.6629 - accuracy: 0.6166 - val_loss: 0.5718 - val_accuracy: 0.8163\n",
            "Epoch 2/10\n",
            "7/7 [==============================] - 0s 14ms/step - loss: 0.6183 - accuracy: 0.6736 - val_loss: 0.5153 - val_accuracy: 0.7959\n",
            "Epoch 3/10\n",
            "7/7 [==============================] - 0s 10ms/step - loss: 0.6122 - accuracy: 0.6943 - val_loss: 0.5401 - val_accuracy: 0.7755\n",
            "Epoch 4/10\n",
            "7/7 [==============================] - 0s 11ms/step - loss: 0.6088 - accuracy: 0.6891 - val_loss: 0.5912 - val_accuracy: 0.7755\n",
            "Epoch 5/10\n",
            "7/7 [==============================] - 0s 11ms/step - loss: 0.5843 - accuracy: 0.7254 - val_loss: 0.5214 - val_accuracy: 0.8367\n",
            "Epoch 6/10\n",
            "7/7 [==============================] - 0s 13ms/step - loss: 0.5710 - accuracy: 0.7202 - val_loss: 0.4862 - val_accuracy: 0.8367\n",
            "Epoch 7/10\n",
            "7/7 [==============================] - 0s 14ms/step - loss: 0.5462 - accuracy: 0.7565 - val_loss: 0.4908 - val_accuracy: 0.7755\n",
            "Epoch 8/10\n",
            "7/7 [==============================] - 0s 10ms/step - loss: 0.5353 - accuracy: 0.7565 - val_loss: 0.4759 - val_accuracy: 0.7959\n",
            "Epoch 9/10\n",
            "7/7 [==============================] - 0s 10ms/step - loss: 0.5230 - accuracy: 0.7513 - val_loss: 0.4556 - val_accuracy: 0.8163\n",
            "Epoch 10/10\n",
            "7/7 [==============================] - 0s 11ms/step - loss: 0.5054 - accuracy: 0.7617 - val_loss: 0.4701 - val_accuracy: 0.8163\n"
          ]
        },
        {
          "output_type": "execute_result",
          "data": {
            "text/plain": [
              "<keras.src.callbacks.History at 0x7bd4fcb50e80>"
            ]
          },
          "metadata": {},
          "execution_count": 38
        }
      ]
    },
    {
      "cell_type": "code",
      "source": [
        "test_loss, test_acc = model.evaluate(X_test, y_test)"
      ],
      "metadata": {
        "colab": {
          "base_uri": "https://localhost:8080/"
        },
        "id": "vU70mXmiKKjs",
        "outputId": "8f1f594a-910a-4e46-bfcc-0684276fe25a"
      },
      "execution_count": 39,
      "outputs": [
        {
          "output_type": "stream",
          "name": "stdout",
          "text": [
            "2/2 [==============================] - 0s 11ms/step - loss: 0.5951 - accuracy: 0.7541\n"
          ]
        }
      ]
    },
    {
      "cell_type": "code",
      "source": [
        "print(f'Test Accuracy: {test_acc * 100:.2f}%')"
      ],
      "metadata": {
        "colab": {
          "base_uri": "https://localhost:8080/"
        },
        "id": "gzK7XJRQKPQc",
        "outputId": "03fa7db0-112b-44cf-feed-22f3dcc9fad7"
      },
      "execution_count": 40,
      "outputs": [
        {
          "output_type": "stream",
          "name": "stdout",
          "text": [
            "Test Accuracy: 75.41%\n"
          ]
        }
      ]
    },
    {
      "cell_type": "code",
      "source": [],
      "metadata": {
        "id": "i6cNq6wvKSLa"
      },
      "execution_count": null,
      "outputs": []
    }
  ]
}