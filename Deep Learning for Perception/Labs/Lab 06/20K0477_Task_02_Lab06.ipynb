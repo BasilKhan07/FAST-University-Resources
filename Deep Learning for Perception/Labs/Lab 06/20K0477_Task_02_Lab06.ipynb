{
  "nbformat": 4,
  "nbformat_minor": 0,
  "metadata": {
    "colab": {
      "provenance": []
    },
    "kernelspec": {
      "name": "python3",
      "display_name": "Python 3"
    },
    "language_info": {
      "name": "python"
    }
  },
  "cells": [
    {
      "cell_type": "code",
      "execution_count": 1,
      "metadata": {
        "id": "UiLa6leYUry5"
      },
      "outputs": [],
      "source": [
        "import pandas as pd\n",
        "import numpy as np\n",
        "from tensorflow.keras.preprocessing.text import Tokenizer\n",
        "from tensorflow.keras.preprocessing.sequence import pad_sequences\n",
        "from tensorflow.keras.models import Sequential\n",
        "from tensorflow.keras.layers import Embedding, LSTM, Dense, SpatialDropout1D\n",
        "from sklearn.model_selection import train_test_split"
      ]
    },
    {
      "cell_type": "code",
      "source": [
        "train_df = pd.read_csv('train.csv')\n",
        "test_df = pd.read_csv('test.csv')"
      ],
      "metadata": {
        "id": "gNZI-3jgWbe3"
      },
      "execution_count": 2,
      "outputs": []
    },
    {
      "cell_type": "code",
      "source": [
        "print(train_df.head())\n",
        "print(test_df.head())"
      ],
      "metadata": {
        "colab": {
          "base_uri": "https://localhost:8080/"
        },
        "id": "hayINMgmW4PK",
        "outputId": "166e4c7c-e6a9-45d8-dbd4-c4ce08f0a3d0"
      },
      "execution_count": 3,
      "outputs": [
        {
          "output_type": "stream",
          "name": "stdout",
          "text": [
            "   id keyword location                                               text  \\\n",
            "0   1     NaN      NaN  Our Deeds are the Reason of this #earthquake M...   \n",
            "1   4     NaN      NaN             Forest fire near La Ronge Sask. Canada   \n",
            "2   5     NaN      NaN  All residents asked to 'shelter in place' are ...   \n",
            "3   6     NaN      NaN  13,000 people receive #wildfires evacuation or...   \n",
            "4   7     NaN      NaN  Just got sent this photo from Ruby #Alaska as ...   \n",
            "\n",
            "   target  \n",
            "0       1  \n",
            "1       1  \n",
            "2       1  \n",
            "3       1  \n",
            "4       1  \n",
            "   id keyword location                                               text\n",
            "0   0     NaN      NaN                 Just happened a terrible car crash\n",
            "1   2     NaN      NaN  Heard about #earthquake is different cities, s...\n",
            "2   3     NaN      NaN  there is a forest fire at spot pond, geese are...\n",
            "3   9     NaN      NaN           Apocalypse lighting. #Spokane #wildfires\n",
            "4  11     NaN      NaN      Typhoon Soudelor kills 28 in China and Taiwan\n"
          ]
        }
      ]
    },
    {
      "cell_type": "code",
      "source": [
        "tokenizer = Tokenizer()\n",
        "tokenizer.fit_on_texts(train_df['text'])"
      ],
      "metadata": {
        "id": "__czugdnW758"
      },
      "execution_count": 4,
      "outputs": []
    },
    {
      "cell_type": "code",
      "source": [
        "X = tokenizer.texts_to_sequences(train_df['text'])\n",
        "X = pad_sequences(X, maxlen=50)"
      ],
      "metadata": {
        "id": "_kiZUIwDXCDH"
      },
      "execution_count": 5,
      "outputs": []
    },
    {
      "cell_type": "code",
      "source": [
        "y = train_df['target']"
      ],
      "metadata": {
        "id": "K7T_Nc8IXGn8"
      },
      "execution_count": 6,
      "outputs": []
    },
    {
      "cell_type": "code",
      "source": [
        "X_train, X_val, y_train, y_val = train_test_split(X, y, test_size=0.2, random_state=42)"
      ],
      "metadata": {
        "id": "wbRgrr51XIyW"
      },
      "execution_count": 7,
      "outputs": []
    },
    {
      "cell_type": "code",
      "source": [
        "model = Sequential()\n",
        "model.add(Embedding(len(tokenizer.word_index) + 1, 32, input_length=50))\n",
        "model.add(SpatialDropout1D(0.2))\n",
        "model.add(LSTM(64, dropout=0.2, recurrent_dropout=0.2))\n",
        "model.add(Dense(1, activation='sigmoid'))"
      ],
      "metadata": {
        "id": "O57EJrBCXLDk"
      },
      "execution_count": 8,
      "outputs": []
    },
    {
      "cell_type": "code",
      "source": [
        "model.compile(loss='binary_crossentropy', optimizer='adam', metrics=['accuracy'])"
      ],
      "metadata": {
        "id": "2ABF5DdKXRuX"
      },
      "execution_count": 9,
      "outputs": []
    },
    {
      "cell_type": "code",
      "source": [
        "print(model.summary())"
      ],
      "metadata": {
        "colab": {
          "base_uri": "https://localhost:8080/"
        },
        "id": "pNctgfOgXUd_",
        "outputId": "69c7f5d0-c84b-45db-a303-437d1d8830ba"
      },
      "execution_count": 10,
      "outputs": [
        {
          "output_type": "stream",
          "name": "stdout",
          "text": [
            "Model: \"sequential\"\n",
            "_________________________________________________________________\n",
            " Layer (type)                Output Shape              Param #   \n",
            "=================================================================\n",
            " embedding (Embedding)       (None, 50, 32)            726432    \n",
            "                                                                 \n",
            " spatial_dropout1d (Spatial  (None, 50, 32)            0         \n",
            " Dropout1D)                                                      \n",
            "                                                                 \n",
            " lstm (LSTM)                 (None, 64)                24832     \n",
            "                                                                 \n",
            " dense (Dense)               (None, 1)                 65        \n",
            "                                                                 \n",
            "=================================================================\n",
            "Total params: 751329 (2.87 MB)\n",
            "Trainable params: 751329 (2.87 MB)\n",
            "Non-trainable params: 0 (0.00 Byte)\n",
            "_________________________________________________________________\n",
            "None\n"
          ]
        }
      ]
    },
    {
      "cell_type": "code",
      "source": [
        "history = model.fit(X_train, y_train, epochs=10, batch_size=32, validation_data=(X_val, y_val), verbose=1)"
      ],
      "metadata": {
        "colab": {
          "base_uri": "https://localhost:8080/"
        },
        "id": "NS5BoD3mXXa5",
        "outputId": "30090cf2-8eb6-4987-cd66-a1a2a196319a"
      },
      "execution_count": 11,
      "outputs": [
        {
          "output_type": "stream",
          "name": "stdout",
          "text": [
            "Epoch 1/10\n",
            "191/191 [==============================] - 24s 94ms/step - loss: 0.5757 - accuracy: 0.6882 - val_loss: 0.4458 - val_accuracy: 0.8122\n",
            "Epoch 2/10\n",
            "191/191 [==============================] - 20s 103ms/step - loss: 0.3346 - accuracy: 0.8670 - val_loss: 0.4504 - val_accuracy: 0.8083\n",
            "Epoch 3/10\n",
            "191/191 [==============================] - 18s 92ms/step - loss: 0.2027 - accuracy: 0.9284 - val_loss: 0.5307 - val_accuracy: 0.7997\n",
            "Epoch 4/10\n",
            "191/191 [==============================] - 19s 97ms/step - loss: 0.1187 - accuracy: 0.9588 - val_loss: 0.6628 - val_accuracy: 0.7741\n",
            "Epoch 5/10\n",
            "191/191 [==============================] - 19s 100ms/step - loss: 0.0840 - accuracy: 0.9731 - val_loss: 0.8857 - val_accuracy: 0.7406\n",
            "Epoch 6/10\n",
            "191/191 [==============================] - 18s 97ms/step - loss: 0.0449 - accuracy: 0.9857 - val_loss: 0.8703 - val_accuracy: 0.7413\n",
            "Epoch 7/10\n",
            "191/191 [==============================] - 20s 102ms/step - loss: 0.0335 - accuracy: 0.9910 - val_loss: 0.8966 - val_accuracy: 0.7544\n",
            "Epoch 8/10\n",
            "191/191 [==============================] - 19s 97ms/step - loss: 0.0296 - accuracy: 0.9906 - val_loss: 0.8908 - val_accuracy: 0.7479\n",
            "Epoch 9/10\n",
            "191/191 [==============================] - 19s 99ms/step - loss: 0.0220 - accuracy: 0.9938 - val_loss: 0.9122 - val_accuracy: 0.7538\n",
            "Epoch 10/10\n",
            "191/191 [==============================] - 18s 95ms/step - loss: 0.0217 - accuracy: 0.9931 - val_loss: 0.8650 - val_accuracy: 0.7262\n"
          ]
        }
      ]
    },
    {
      "cell_type": "code",
      "source": [
        "loss, accuracy = model.evaluate(X_val, y_val)\n",
        "print(\"Validation Accuracy:\", accuracy)"
      ],
      "metadata": {
        "colab": {
          "base_uri": "https://localhost:8080/"
        },
        "id": "C94KSz5wXcSh",
        "outputId": "836d0266-1d93-4ee6-f9ba-860a64b82354"
      },
      "execution_count": 12,
      "outputs": [
        {
          "output_type": "stream",
          "name": "stdout",
          "text": [
            "48/48 [==============================] - 1s 29ms/step - loss: 0.8650 - accuracy: 0.7262\n",
            "Validation Accuracy: 0.7261983156204224\n"
          ]
        }
      ]
    },
    {
      "cell_type": "code",
      "source": [
        "X_test = tokenizer.texts_to_sequences(test_df['text'])\n",
        "X_test = pad_sequences(X_test, maxlen=50)"
      ],
      "metadata": {
        "id": "lW6aGb44YabA"
      },
      "execution_count": 13,
      "outputs": []
    },
    {
      "cell_type": "code",
      "source": [
        "predictions_proba = model.predict(X_test).flatten()"
      ],
      "metadata": {
        "colab": {
          "base_uri": "https://localhost:8080/"
        },
        "id": "PW8KvgReYc3o",
        "outputId": "3973ccf8-13db-40db-ee9c-b978bceb34ed"
      },
      "execution_count": 15,
      "outputs": [
        {
          "output_type": "stream",
          "name": "stdout",
          "text": [
            "102/102 [==============================] - 1s 11ms/step\n"
          ]
        }
      ]
    },
    {
      "cell_type": "code",
      "source": [
        "predictions = (predictions_proba > 0.5).astype(int)"
      ],
      "metadata": {
        "id": "DkO9XVZ6YfvQ"
      },
      "execution_count": 16,
      "outputs": []
    },
    {
      "cell_type": "code",
      "source": [
        "submission_df = pd.DataFrame({'id': test_df['id'], 'target': predictions})\n",
        "submission_df.to_csv('submission.csv', index=False)"
      ],
      "metadata": {
        "id": "27Vqh_lgaLnr"
      },
      "execution_count": 17,
      "outputs": []
    },
    {
      "cell_type": "code",
      "source": [],
      "metadata": {
        "id": "c-cIkfb2aNqp"
      },
      "execution_count": null,
      "outputs": []
    }
  ]
}