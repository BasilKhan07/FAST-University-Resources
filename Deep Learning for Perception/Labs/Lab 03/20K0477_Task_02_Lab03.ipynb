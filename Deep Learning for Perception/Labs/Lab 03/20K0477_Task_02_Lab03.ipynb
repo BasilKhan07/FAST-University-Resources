{
  "nbformat": 4,
  "nbformat_minor": 0,
  "metadata": {
    "colab": {
      "provenance": []
    },
    "kernelspec": {
      "name": "python3",
      "display_name": "Python 3"
    },
    "language_info": {
      "name": "python"
    }
  },
  "cells": [
    {
      "cell_type": "code",
      "execution_count": 2,
      "metadata": {
        "id": "pEUQljYuuOSQ"
      },
      "outputs": [],
      "source": [
        "import numpy as np"
      ]
    },
    {
      "cell_type": "code",
      "source": [
        "class NeuralNetwork:\n",
        "    def __init__(self):\n",
        "\n",
        "        self.input_size = 3\n",
        "        self.hidden_size1 = 2\n",
        "        self.hidden_size2 = 2\n",
        "        self.output_size = 1\n",
        "\n",
        "\n",
        "        self.W1 = np.random.randn(self.hidden_size1, self.input_size)\n",
        "        self.b1 = np.zeros((self.hidden_size1, 1))\n",
        "        self.W2 = np.random.randn(self.hidden_size2, self.hidden_size1)\n",
        "        self.b2 = np.zeros((self.hidden_size2, 1))\n",
        "        self.W3 = np.random.randn(self.output_size, self.hidden_size2)\n",
        "        self.b3 = np.zeros((self.output_size, 1))\n",
        "\n",
        "\n",
        "        self.lr = 0.01\n",
        "\n",
        "    def sigmoid(self, Z):\n",
        "        return 1 / (1 + np.exp(-Z))\n",
        "\n",
        "    def sigmoid_derivative(self, Z):\n",
        "        return self.sigmoid(Z) * (1 - self.sigmoid(Z))\n",
        "\n",
        "    def forward(self, X):\n",
        "\n",
        "        self.Z1 = np.dot(self.W1, X.T) + self.b1\n",
        "        self.A1 = self.sigmoid(self.Z1)\n",
        "        self.Z2 = np.dot(self.W2, self.A1) + self.b2\n",
        "        self.A2 = self.sigmoid(self.Z2)\n",
        "        self.Z3 = np.dot(self.W3, self.A2) + self.b3\n",
        "        self.A3 = self.sigmoid(self.Z3)\n",
        "        return self.A3\n",
        "\n",
        "    def backward(self, X, Y, output):\n",
        "\n",
        "        m = X.shape[1]\n",
        "\n",
        "        dZ3 = output - Y\n",
        "        dW3 = 1 / m * np.dot(dZ3, self.A2.T)\n",
        "        db3 = 1 / m * np.sum(dZ3, axis=1, keepdims=True)\n",
        "\n",
        "        dA2 = np.dot(self.W3.T, dZ3)\n",
        "        dZ2 = dA2 * self.sigmoid_derivative(self.Z2)\n",
        "        dW2 = 1 / m * np.dot(dZ2, self.A1.T)\n",
        "        db2 = 1 / m * np.sum(dZ2, axis=1, keepdims=True)\n",
        "\n",
        "        dA1 = np.dot(self.W2.T, dZ2)\n",
        "        dZ1 = dA1 * self.sigmoid_derivative(self.Z1)\n",
        "        dW1 = 1 / m * np.dot(dZ1, X)\n",
        "        db1 = 1 / m * np.sum(dZ1, axis=1, keepdims=True)\n",
        "\n",
        "\n",
        "        self.W1 -= self.lr * dW1\n",
        "        self.b1 -= self.lr * db1\n",
        "        self.W2 -= self.lr * dW2\n",
        "        self.b2 -= self.lr * db2\n",
        "        self.W3 -= self.lr * dW3\n",
        "        self.b3 -= self.lr * db3\n",
        "\n",
        "    def train(self, X, Y, epochs):\n",
        "        for epoch in range(epochs):\n",
        "\n",
        "            output = self.forward(X)\n",
        "\n",
        "\n",
        "            self.backward(X, Y, output)\n",
        "\n",
        "\n",
        "            if epoch % 100 == 0:\n",
        "                loss = np.mean(np.square(output - Y))\n",
        "                print(f'Epoch {epoch+1}, Loss: {loss}')\n"
      ],
      "metadata": {
        "id": "7AwWcKTeu-DK"
      },
      "execution_count": 1,
      "outputs": []
    },
    {
      "cell_type": "code",
      "source": [
        "X = np.array([[1, 1, 8],\n",
        "              [6, 5, 7]])\n",
        "Y = np.array([[1, 1]])"
      ],
      "metadata": {
        "id": "-MEuEMZRvLC1"
      },
      "execution_count": 3,
      "outputs": []
    },
    {
      "cell_type": "code",
      "source": [
        "X = X / np.max(X)"
      ],
      "metadata": {
        "id": "Pu6zReWpvzeh"
      },
      "execution_count": 4,
      "outputs": []
    },
    {
      "cell_type": "code",
      "source": [
        "model = NeuralNetwork()"
      ],
      "metadata": {
        "id": "boeAhH4Dv21U"
      },
      "execution_count": 5,
      "outputs": []
    },
    {
      "cell_type": "code",
      "source": [
        "model.train(X, Y, epochs=1)"
      ],
      "metadata": {
        "colab": {
          "base_uri": "https://localhost:8080/"
        },
        "id": "4_PuKe6pv5n0",
        "outputId": "186bcae7-ea8c-459b-c410-0aae4819a122"
      },
      "execution_count": 6,
      "outputs": [
        {
          "output_type": "stream",
          "name": "stdout",
          "text": [
            "Epoch 1, Loss: 0.08513999601482586\n"
          ]
        }
      ]
    },
    {
      "cell_type": "code",
      "source": [],
      "metadata": {
        "id": "nZa4nruGv8U8"
      },
      "execution_count": null,
      "outputs": []
    }
  ]
}